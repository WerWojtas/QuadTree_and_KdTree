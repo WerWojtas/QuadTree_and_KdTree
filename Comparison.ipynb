{
 "cells": [
  {
   "cell_type": "markdown",
   "metadata": {
    "collapsed": false,
    "jupyter": {
     "outputs_hidden": false
    }
   },
   "source": [
    "# Porównanie wyników pomiarów wydajności QuadTree and KDTree"
   ]
  },
  {
   "cell_type": "code",
   "execution_count": 1,
   "metadata": {},
   "outputs": [],
   "source": [
    "# Import data libraries and timers\n",
    "import pandas as pd\n",
    "from time import process_time\n",
    "# Imports geometry utilities\n",
    "from utilities.Point import Point\n",
    "from utilities.Rectangle import Rectangle\n",
    "# Imports modules for testing, benchmarking and visualizing\n",
    "from visualizer.main import Visualizer\n",
    "from comparator.CaseGenerator import CaseGenerator\n",
    "from TestManager import TestManager\n",
    "# Imports data structures (and their visualizers)\n",
    "from KdTree import KdTree, KdTree_visualizer\n",
    "#from QuadTree import QuadTree, QuadTree_visualizer"
   ]
  },
  {
   "cell_type": "markdown",
   "metadata": {},
   "source": [
    "## Spis treści:\n",
    "1. Sprawdzenie poprawności działania porównywanych struktur danych\n",
    "2. Pomiary wydajności dla różnych rozmiarów danych oraz rodzaju danych wejściowych\n",
    "3. Generowanie wykresów\n",
    "4. Pomiary dla indywidulanych przypadków pod zastosowania drzewa"
   ]
  },
  {
   "cell_type": "markdown",
   "metadata": {},
   "source": [
    "## 1. Sprawdzenie poprawności działania porównywanych struktur danych"
   ]
  },
  {
   "cell_type": "markdown",
   "metadata": {},
   "source": [
    "KdTree:"
   ]
  },
  {
   "cell_type": "code",
   "execution_count": 2,
   "metadata": {},
   "outputs": [
    {
     "name": "stdout",
     "output_type": "stream",
     "text": [
      "Running all tests:\n",
      "Test contain_point_int:\n",
      "+++++++++++++++++++++++++++++++++++++++++++++++++++++++++\n",
      "Passed 57/57 tests.\n",
      "Test contain_point_float:\n",
      "++++++++++\n",
      "Passed 10/10 tests.\n",
      "Test points_in_rectangle_int:\n",
      "++++\n",
      "Passed 4/4 tests.\n",
      "Test points_in_rectangle_float:\n",
      "+\n",
      "Passed 1/1 tests.\n",
      "Passed 72/72 of all self tests.\n",
      "Running all unittests:\n"
     ]
    }
   ],
   "source": [
    "KdTree_tests = TestManager(KdTree).all_tests()"
   ]
  },
  {
   "cell_type": "markdown",
   "metadata": {},
   "source": [
    "QuadTree:"
   ]
  },
  {
   "cell_type": "code",
   "execution_count": 3,
   "metadata": {},
   "outputs": [
    {
     "ename": "NameError",
     "evalue": "name 'QuadTree' is not defined",
     "output_type": "error",
     "traceback": [
      "\u001b[1;31m---------------------------------------------------------------------------\u001b[0m",
      "\u001b[1;31mNameError\u001b[0m                                 Traceback (most recent call last)",
      "Cell \u001b[1;32mIn[3], line 1\u001b[0m\n\u001b[1;32m----> 1\u001b[0m QuadTree_tests \u001b[38;5;241m=\u001b[39m TestManager(\u001b[43mQuadTree\u001b[49m)\u001b[38;5;241m.\u001b[39mall_tests()\n",
      "\u001b[1;31mNameError\u001b[0m: name 'QuadTree' is not defined"
     ]
    }
   ],
   "source": [
    "QuadTree_tests = TestManager(QuadTree).all_tests()"
   ]
  },
  {
   "cell_type": "markdown",
   "metadata": {},
   "source": [
    "Weryfikacja:"
   ]
  },
  {
   "cell_type": "code",
   "execution_count": null,
   "metadata": {},
   "outputs": [],
   "source": [
    "assert KdTree_tests and QuadTree_tests\n",
    "print(\"All tests passed!\")"
   ]
  },
  {
   "cell_type": "markdown",
   "metadata": {},
   "source": [
    "## 2. Pomiary wydajności"
   ]
  },
  {
   "cell_type": "code",
   "execution_count": null,
   "metadata": {},
   "outputs": [],
   "source": [
    "cg = CaseGenerator()\n",
    "def benchmark(func, ):\n",
    "    rectangle = Rectangle(Point([0,0]), Point([100,100]))\n",
    "    data = []\n",
    "    for q in quantities:\n",
    "        points = func(q, rectangle)\n",
    "        t1 = process_time()\n",
    "        KdTree(points)\n",
    "        t2 = process_time()\n",
    "        #QuadTree(points)\n",
    "        t3 = process_time()\n",
    "        data.append((q, t2-t1, t3-t2, abs(t2-t1-t3+t2)))\n",
    "    col = [\"Liczba punktów\", \"KdTree [s]\", \"QuadTree [s]\", \"różnica [s]\"]\n",
    "    return pd.DataFrame(data, columns=col, index=[_ for _ in range(1,len(quantities)+1)])"
   ]
  },
  {
   "cell_type": "markdown",
   "metadata": {},
   "source": [
    "2.1 Rozkład równomierny"
   ]
  },
  {
   "cell_type": "code",
   "execution_count": null,
   "metadata": {},
   "outputs": [
    {
     "data": {
      "text/html": [
       "<div>\n",
       "<style scoped>\n",
       "    .dataframe tbody tr th:only-of-type {\n",
       "        vertical-align: middle;\n",
       "    }\n",
       "\n",
       "    .dataframe tbody tr th {\n",
       "        vertical-align: top;\n",
       "    }\n",
       "\n",
       "    .dataframe thead th {\n",
       "        text-align: right;\n",
       "    }\n",
       "</style>\n",
       "<table border=\"1\" class=\"dataframe\">\n",
       "  <thead>\n",
       "    <tr style=\"text-align: right;\">\n",
       "      <th></th>\n",
       "      <th>Liczba punktów</th>\n",
       "      <th>KdTree [s]</th>\n",
       "      <th>QuadTree [s]</th>\n",
       "      <th>różnica [s]</th>\n",
       "    </tr>\n",
       "  </thead>\n",
       "  <tbody>\n",
       "    <tr>\n",
       "      <th>1</th>\n",
       "      <td>100</td>\n",
       "      <td>0.000000</td>\n",
       "      <td>0.0</td>\n",
       "      <td>0.000000</td>\n",
       "    </tr>\n",
       "    <tr>\n",
       "      <th>2</th>\n",
       "      <td>200</td>\n",
       "      <td>0.015625</td>\n",
       "      <td>0.0</td>\n",
       "      <td>0.015625</td>\n",
       "    </tr>\n",
       "    <tr>\n",
       "      <th>3</th>\n",
       "      <td>500</td>\n",
       "      <td>0.015625</td>\n",
       "      <td>0.0</td>\n",
       "      <td>0.015625</td>\n",
       "    </tr>\n",
       "    <tr>\n",
       "      <th>4</th>\n",
       "      <td>1000</td>\n",
       "      <td>0.031250</td>\n",
       "      <td>0.0</td>\n",
       "      <td>0.031250</td>\n",
       "    </tr>\n",
       "    <tr>\n",
       "      <th>5</th>\n",
       "      <td>1500</td>\n",
       "      <td>0.078125</td>\n",
       "      <td>0.0</td>\n",
       "      <td>0.078125</td>\n",
       "    </tr>\n",
       "    <tr>\n",
       "      <th>6</th>\n",
       "      <td>2000</td>\n",
       "      <td>0.046875</td>\n",
       "      <td>0.0</td>\n",
       "      <td>0.046875</td>\n",
       "    </tr>\n",
       "    <tr>\n",
       "      <th>7</th>\n",
       "      <td>3000</td>\n",
       "      <td>0.109375</td>\n",
       "      <td>0.0</td>\n",
       "      <td>0.109375</td>\n",
       "    </tr>\n",
       "    <tr>\n",
       "      <th>8</th>\n",
       "      <td>5000</td>\n",
       "      <td>0.171875</td>\n",
       "      <td>0.0</td>\n",
       "      <td>0.171875</td>\n",
       "    </tr>\n",
       "    <tr>\n",
       "      <th>9</th>\n",
       "      <td>7500</td>\n",
       "      <td>0.296875</td>\n",
       "      <td>0.0</td>\n",
       "      <td>0.296875</td>\n",
       "    </tr>\n",
       "    <tr>\n",
       "      <th>10</th>\n",
       "      <td>10000</td>\n",
       "      <td>0.390625</td>\n",
       "      <td>0.0</td>\n",
       "      <td>0.390625</td>\n",
       "    </tr>\n",
       "  </tbody>\n",
       "</table>\n",
       "</div>"
      ],
      "text/plain": [
       "    Liczba punktów  KdTree [s]  QuadTree [s]  różnica [s]\n",
       "1              100    0.000000           0.0     0.000000\n",
       "2              200    0.015625           0.0     0.015625\n",
       "3              500    0.015625           0.0     0.015625\n",
       "4             1000    0.031250           0.0     0.031250\n",
       "5             1500    0.078125           0.0     0.078125\n",
       "6             2000    0.046875           0.0     0.046875\n",
       "7             3000    0.109375           0.0     0.109375\n",
       "8             5000    0.171875           0.0     0.171875\n",
       "9             7500    0.296875           0.0     0.296875\n",
       "10           10000    0.390625           0.0     0.390625"
      ]
     },
     "execution_count": 32,
     "metadata": {},
     "output_type": "execute_result"
    }
   ],
   "source": [
    "#construction time\n",
    "# , search time, rectangle search time ???\n",
    "# ...\n",
    "q1 = [100, 200, 500, 1000, 1500, 2000, 3000, 5000, 7500, 10000]\n",
    "df1 = benchmark(cg.uniform_distribution, q1)\n",
    "df1"
   ]
  },
  {
   "cell_type": "markdown",
   "metadata": {},
   "source": [
    "2.2 Rozkład normalny"
   ]
  },
  {
   "cell_type": "code",
   "execution_count": null,
   "metadata": {},
   "outputs": [
    {
     "data": {
      "text/html": [
       "<div>\n",
       "<style scoped>\n",
       "    .dataframe tbody tr th:only-of-type {\n",
       "        vertical-align: middle;\n",
       "    }\n",
       "\n",
       "    .dataframe tbody tr th {\n",
       "        vertical-align: top;\n",
       "    }\n",
       "\n",
       "    .dataframe thead th {\n",
       "        text-align: right;\n",
       "    }\n",
       "</style>\n",
       "<table border=\"1\" class=\"dataframe\">\n",
       "  <thead>\n",
       "    <tr style=\"text-align: right;\">\n",
       "      <th></th>\n",
       "      <th>Liczba punktów</th>\n",
       "      <th>KdTree [s]</th>\n",
       "      <th>QuadTree [s]</th>\n",
       "      <th>różnica [s]</th>\n",
       "    </tr>\n",
       "  </thead>\n",
       "  <tbody>\n",
       "    <tr>\n",
       "      <th>1</th>\n",
       "      <td>100</td>\n",
       "      <td>0.015625</td>\n",
       "      <td>0.0</td>\n",
       "      <td>0.015625</td>\n",
       "    </tr>\n",
       "    <tr>\n",
       "      <th>2</th>\n",
       "      <td>200</td>\n",
       "      <td>0.000000</td>\n",
       "      <td>0.0</td>\n",
       "      <td>0.000000</td>\n",
       "    </tr>\n",
       "    <tr>\n",
       "      <th>3</th>\n",
       "      <td>500</td>\n",
       "      <td>0.015625</td>\n",
       "      <td>0.0</td>\n",
       "      <td>0.015625</td>\n",
       "    </tr>\n",
       "    <tr>\n",
       "      <th>4</th>\n",
       "      <td>1000</td>\n",
       "      <td>0.031250</td>\n",
       "      <td>0.0</td>\n",
       "      <td>0.031250</td>\n",
       "    </tr>\n",
       "    <tr>\n",
       "      <th>5</th>\n",
       "      <td>1500</td>\n",
       "      <td>0.093750</td>\n",
       "      <td>0.0</td>\n",
       "      <td>0.093750</td>\n",
       "    </tr>\n",
       "    <tr>\n",
       "      <th>6</th>\n",
       "      <td>2000</td>\n",
       "      <td>0.046875</td>\n",
       "      <td>0.0</td>\n",
       "      <td>0.046875</td>\n",
       "    </tr>\n",
       "    <tr>\n",
       "      <th>7</th>\n",
       "      <td>3000</td>\n",
       "      <td>0.109375</td>\n",
       "      <td>0.0</td>\n",
       "      <td>0.109375</td>\n",
       "    </tr>\n",
       "    <tr>\n",
       "      <th>8</th>\n",
       "      <td>5000</td>\n",
       "      <td>0.140625</td>\n",
       "      <td>0.0</td>\n",
       "      <td>0.140625</td>\n",
       "    </tr>\n",
       "    <tr>\n",
       "      <th>9</th>\n",
       "      <td>7500</td>\n",
       "      <td>0.281250</td>\n",
       "      <td>0.0</td>\n",
       "      <td>0.281250</td>\n",
       "    </tr>\n",
       "    <tr>\n",
       "      <th>10</th>\n",
       "      <td>10000</td>\n",
       "      <td>0.406250</td>\n",
       "      <td>0.0</td>\n",
       "      <td>0.406250</td>\n",
       "    </tr>\n",
       "  </tbody>\n",
       "</table>\n",
       "</div>"
      ],
      "text/plain": [
       "    Liczba punktów  KdTree [s]  QuadTree [s]  różnica [s]\n",
       "1              100    0.015625           0.0     0.015625\n",
       "2              200    0.000000           0.0     0.000000\n",
       "3              500    0.015625           0.0     0.015625\n",
       "4             1000    0.031250           0.0     0.031250\n",
       "5             1500    0.093750           0.0     0.093750\n",
       "6             2000    0.046875           0.0     0.046875\n",
       "7             3000    0.109375           0.0     0.109375\n",
       "8             5000    0.140625           0.0     0.140625\n",
       "9             7500    0.281250           0.0     0.281250\n",
       "10           10000    0.406250           0.0     0.406250"
      ]
     },
     "execution_count": 33,
     "metadata": {},
     "output_type": "execute_result"
    }
   ],
   "source": [
    "df2 = benchmark(cg.normal_distribution, q1)\n",
    "df2"
   ]
  },
  {
   "cell_type": "markdown",
   "metadata": {},
   "source": [
    "2.3 Rozkład \"posadzka\""
   ]
  },
  {
   "cell_type": "code",
   "execution_count": null,
   "metadata": {},
   "outputs": [
    {
     "ename": "TypeError",
     "evalue": "grid_distribution() missing 1 required positional argument: 'rectangle'",
     "output_type": "error",
     "traceback": [
      "\u001b[1;31m---------------------------------------------------------------------------\u001b[0m",
      "\u001b[1;31mTypeError\u001b[0m                                 Traceback (most recent call last)",
      "Cell \u001b[1;32mIn[38], line 1\u001b[0m\n\u001b[1;32m----> 1\u001b[0m df3 \u001b[38;5;241m=\u001b[39m \u001b[43mbenchmark\u001b[49m\u001b[43m(\u001b[49m\u001b[43mcg\u001b[49m\u001b[38;5;241;43m.\u001b[39;49m\u001b[43mgrid_distribution\u001b[49m\u001b[43m,\u001b[49m\u001b[43m \u001b[49m\u001b[43mq1\u001b[49m\u001b[43m)\u001b[49m\n\u001b[0;32m      2\u001b[0m df3\n",
      "Cell \u001b[1;32mIn[29], line 6\u001b[0m, in \u001b[0;36mbenchmark\u001b[1;34m(func, quantities)\u001b[0m\n\u001b[0;32m      4\u001b[0m data \u001b[38;5;241m=\u001b[39m []\n\u001b[0;32m      5\u001b[0m \u001b[38;5;28;01mfor\u001b[39;00m q \u001b[38;5;129;01min\u001b[39;00m quantities:\n\u001b[1;32m----> 6\u001b[0m     points \u001b[38;5;241m=\u001b[39m \u001b[43mfunc\u001b[49m\u001b[43m(\u001b[49m\u001b[43mq\u001b[49m\u001b[43m,\u001b[49m\u001b[43m \u001b[49m\u001b[43mrectangle\u001b[49m\u001b[43m)\u001b[49m\n\u001b[0;32m      7\u001b[0m     t1 \u001b[38;5;241m=\u001b[39m process_time()\n\u001b[0;32m      8\u001b[0m     KdTree(points)\n",
      "\u001b[1;31mTypeError\u001b[0m: grid_distribution() missing 1 required positional argument: 'rectangle'"
     ]
    }
   ],
   "source": [
    "df3 = benchmark(cg.grid_distribution, q1)\n",
    "df3"
   ]
  },
  {
   "cell_type": "markdown",
   "metadata": {},
   "source": [
    "2.4 Rozkład klastrowy"
   ]
  },
  {
   "cell_type": "code",
   "execution_count": null,
   "metadata": {},
   "outputs": [
    {
     "ename": "TypeError",
     "evalue": "'<' not supported between instances of 'Rectangle' and 'int'",
     "output_type": "error",
     "traceback": [
      "\u001b[1;31m---------------------------------------------------------------------------\u001b[0m",
      "\u001b[1;31mTypeError\u001b[0m                                 Traceback (most recent call last)",
      "Cell \u001b[1;32mIn[37], line 2\u001b[0m\n\u001b[0;32m      1\u001b[0m c \u001b[38;5;241m=\u001b[39m (Rectangle(Point([\u001b[38;5;241m0\u001b[39m,\u001b[38;5;241m0\u001b[39m]), Point([\u001b[38;5;241m10\u001b[39m,\u001b[38;5;241m10\u001b[39m])), Rectangle(Point([\u001b[38;5;241m40\u001b[39m,\u001b[38;5;241m50\u001b[39m]), Point([\u001b[38;5;241m60\u001b[39m,\u001b[38;5;241m90\u001b[39m])), Rectangle(Point([\u001b[38;5;241m80\u001b[39m,\u001b[38;5;241m20\u001b[39m]), Point([\u001b[38;5;241m90\u001b[39m,\u001b[38;5;241m30\u001b[39m])))\n\u001b[1;32m----> 2\u001b[0m df4 \u001b[38;5;241m=\u001b[39m \u001b[43mbenchmark\u001b[49m\u001b[43m(\u001b[49m\u001b[43mcg\u001b[49m\u001b[38;5;241;43m.\u001b[39;49m\u001b[43mcluster_distribution\u001b[49m\u001b[43m,\u001b[49m\u001b[43m \u001b[49m\u001b[43mc\u001b[49m\u001b[43m)\u001b[49m\n\u001b[0;32m      3\u001b[0m df4\n",
      "Cell \u001b[1;32mIn[29], line 6\u001b[0m, in \u001b[0;36mbenchmark\u001b[1;34m(func, quantities)\u001b[0m\n\u001b[0;32m      4\u001b[0m data \u001b[38;5;241m=\u001b[39m []\n\u001b[0;32m      5\u001b[0m \u001b[38;5;28;01mfor\u001b[39;00m q \u001b[38;5;129;01min\u001b[39;00m quantities:\n\u001b[1;32m----> 6\u001b[0m     points \u001b[38;5;241m=\u001b[39m \u001b[43mfunc\u001b[49m\u001b[43m(\u001b[49m\u001b[43mq\u001b[49m\u001b[43m,\u001b[49m\u001b[43m \u001b[49m\u001b[43mrectangle\u001b[49m\u001b[43m)\u001b[49m\n\u001b[0;32m      7\u001b[0m     t1 \u001b[38;5;241m=\u001b[39m process_time()\n\u001b[0;32m      8\u001b[0m     KdTree(points)\n",
      "File \u001b[1;32mc:\\Users\\acer\\Desktop\\matura\\QuadTree_&_KdTree\\comparator\\CaseGenerator.py:59\u001b[0m, in \u001b[0;36mCaseGenerator.cluster_distribution\u001b[1;34m(self, quantity, clusters, raw)\u001b[0m\n\u001b[0;32m     55\u001b[0m \u001b[38;5;28;01mdef\u001b[39;00m \u001b[38;5;21mcluster_distribution\u001b[39m(\u001b[38;5;28mself\u001b[39m, quantity, clusters, raw\u001b[38;5;241m=\u001b[39m\u001b[38;5;28;01mTrue\u001b[39;00m):\n\u001b[0;32m     56\u001b[0m \u001b[38;5;250m    \u001b[39m\u001b[38;5;124;03m\"\"\"\u001b[39;00m\n\u001b[0;32m     57\u001b[0m \u001b[38;5;124;03m    quanity - number of points in each cluster\u001b[39;00m\n\u001b[0;32m     58\u001b[0m \u001b[38;5;124;03m    \"\"\"\u001b[39;00m\n\u001b[1;32m---> 59\u001b[0m     \u001b[38;5;28;43mself\u001b[39;49m\u001b[38;5;241;43m.\u001b[39;49m\u001b[43mcheck_quantity\u001b[49m\u001b[43m(\u001b[49m\u001b[43mquantity\u001b[49m\u001b[43m)\u001b[49m\n\u001b[0;32m     60\u001b[0m     \u001b[38;5;28;01mfor\u001b[39;00m cluster \u001b[38;5;129;01min\u001b[39;00m clusters:\n\u001b[0;32m     61\u001b[0m         \u001b[38;5;28mself\u001b[39m\u001b[38;5;241m.\u001b[39mcheck_rectangle(cluster, must2d\u001b[38;5;241m=\u001b[39m\u001b[38;5;28;01mTrue\u001b[39;00m)\n",
      "File \u001b[1;32mc:\\Users\\acer\\Desktop\\matura\\QuadTree_&_KdTree\\comparator\\CaseGenerator.py:9\u001b[0m, in \u001b[0;36mCaseGenerator.check_quantity\u001b[1;34m(self, quantity, name)\u001b[0m\n\u001b[0;32m      8\u001b[0m \u001b[38;5;28;01mdef\u001b[39;00m \u001b[38;5;21mcheck_quantity\u001b[39m(\u001b[38;5;28mself\u001b[39m, quantity, name\u001b[38;5;241m=\u001b[39m\u001b[38;5;124m\"\u001b[39m\u001b[38;5;124mquantity\u001b[39m\u001b[38;5;124m\"\u001b[39m):\n\u001b[1;32m----> 9\u001b[0m     \u001b[38;5;28;01mif\u001b[39;00m \u001b[43mquantity\u001b[49m\u001b[43m \u001b[49m\u001b[38;5;241;43m<\u001b[39;49m\u001b[43m \u001b[49m\u001b[38;5;241;43m0\u001b[39;49m:\n\u001b[0;32m     10\u001b[0m         \u001b[38;5;28;01mraise\u001b[39;00m \u001b[38;5;167;01mException\u001b[39;00m(\u001b[38;5;124mf\u001b[39m\u001b[38;5;124m\"\u001b[39m\u001b[38;5;132;01m{\u001b[39;00mname\u001b[38;5;132;01m}\u001b[39;00m\u001b[38;5;124m must be positive\u001b[39m\u001b[38;5;124m\"\u001b[39m)\n",
      "\u001b[1;31mTypeError\u001b[0m: '<' not supported between instances of 'Rectangle' and 'int'"
     ]
    }
   ],
   "source": [
    "c = (Rectangle(Point([0,0]), Point([10,10])), Rectangle(Point([40,50]), Point([60,90])), Rectangle(Point([80,20]), Point([90,30])))\n",
    "df4 = benchmark(cg.cluster_distribution, c)\n",
    "df4"
   ]
  },
  {
   "cell_type": "markdown",
   "metadata": {},
   "source": [
    "2.5 Rozkład krzyżowy"
   ]
  },
  {
   "cell_type": "code",
   "execution_count": null,
   "metadata": {},
   "outputs": [],
   "source": []
  },
  {
   "cell_type": "markdown",
   "metadata": {},
   "source": [
    "2.6 Rozkład prostokątny"
   ]
  },
  {
   "cell_type": "code",
   "execution_count": null,
   "metadata": {},
   "outputs": [],
   "source": []
  },
  {
   "cell_type": "markdown",
   "metadata": {},
   "source": [
    "## 3. Generowanie wykresów"
   ]
  }
 ],
 "metadata": {
  "kernelspec": {
   "display_name": "Python 3 (ipykernel)",
   "language": "python",
   "name": "python3"
  },
  "language_info": {
   "codemirror_mode": {
    "name": "ipython",
    "version": 3
   },
   "file_extension": ".py",
   "mimetype": "text/x-python",
   "name": "python",
   "nbconvert_exporter": "python",
   "pygments_lexer": "ipython3",
   "version": "3.11.5"
  }
 },
 "nbformat": 4,
 "nbformat_minor": 4
}
