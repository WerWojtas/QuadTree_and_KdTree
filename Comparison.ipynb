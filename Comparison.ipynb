{
 "cells": [
  {
   "cell_type": "markdown",
   "metadata": {
    "collapsed": false,
    "jupyter": {
     "outputs_hidden": false
    }
   },
   "source": [
    "# Porównanie wyników pomiarów wydajności QuadTree and KDTree"
   ]
  },
  {
   "cell_type": "code",
   "execution_count": 17,
   "metadata": {},
   "outputs": [],
   "source": [
    "# Imports geometry utilities\n",
    "from utilities.Point import Point\n",
    "from utilities.Rectangle import Rectangle\n",
    "# Imports modules for testing, benchmarking and visualizing\n",
    "from visualizer.main import Visualizer\n",
    "from comparator.CaseGenerator import CaseGenerator\n",
    "from tests.TestManager import TestManager\n",
    "# Imports data structures (and their visualizers)\n",
    "from KdTree import KdTree, KdTree_visualizer\n",
    "from QuadTree import QuadTree, QuadTree_visualizer"
   ]
  },
  {
   "cell_type": "markdown",
   "metadata": {},
   "source": [
    "## Spis treści:\n",
    "1. Sprawdzenie poprawności działania porównywanych struktur danych\n",
    "2. Pomiary wydajności dla różnych rozmiarów danych oraz rodzaju danych wejściowych\n",
    "3. Generowanie wykresów\n",
    "4. Pomiary dla indywidulanych przypadków pod zastosowania drzewa"
   ]
  },
  {
   "cell_type": "markdown",
   "metadata": {},
   "source": [
    "## 1. Sprawdzenie poprawności działania porównywanych struktur danych"
   ]
  },
  {
   "cell_type": "markdown",
   "metadata": {},
   "source": [
    "KdTree:"
   ]
  },
  {
   "cell_type": "code",
   "execution_count": 18,
   "metadata": {},
   "outputs": [
    {
     "name": "stdout",
     "output_type": "stream",
     "text": [
      "Running tests:\n",
      "Test contain_point_int:\n",
      "+++++++++++++++++++++++++++++++++++++++++++++++++++++++++\n",
      "Passed 57/57 tests.\n",
      "Test contain_point_float:\n",
      "++++++++++\n",
      "Passed 10/10 tests.\n",
      "Test points_in_rectangle_int:\n",
      "++++\n",
      "Passed 4/4 tests.\n",
      "Test points_in_rectangle_float:\n",
      "+\n",
      "Passed 1/1 tests.\n",
      "Passed 72/72 of all tests.\n"
     ]
    }
   ],
   "source": [
    "KdTree_tests = TestManager(KdTree).all_tests()"
   ]
  },
  {
   "cell_type": "markdown",
   "metadata": {},
   "source": [
    "QuadTree:"
   ]
  },
  {
   "cell_type": "code",
   "execution_count": null,
   "metadata": {},
   "outputs": [],
   "source": [
    "QuadTree_tests = TestManager(QuadTree).all_tests()"
   ]
  },
  {
   "cell_type": "markdown",
   "metadata": {},
   "source": [
    "Weryfikacja:"
   ]
  },
  {
   "cell_type": "code",
   "execution_count": null,
   "metadata": {},
   "outputs": [],
   "source": [
    "assert KdTree_tests and QuadTree_tests\n",
    "print(\"All tests passed!\")"
   ]
  },
  {
   "cell_type": "markdown",
   "metadata": {},
   "source": [
    "## 2. Pomiary wydajności"
   ]
  },
  {
   "cell_type": "markdown",
   "metadata": {},
   "source": [
    "2.1 Rozkład równomierny"
   ]
  },
  {
   "cell_type": "code",
   "execution_count": null,
   "metadata": {},
   "outputs": [],
   "source": []
  },
  {
   "cell_type": "markdown",
   "metadata": {},
   "source": [
    "2.2 Rozkład normalny"
   ]
  },
  {
   "cell_type": "code",
   "execution_count": null,
   "metadata": {},
   "outputs": [],
   "source": []
  },
  {
   "cell_type": "markdown",
   "metadata": {},
   "source": [
    "2.3 Rozkład \"posadzka\""
   ]
  },
  {
   "cell_type": "code",
   "execution_count": null,
   "metadata": {},
   "outputs": [],
   "source": []
  },
  {
   "cell_type": "markdown",
   "metadata": {},
   "source": [
    "2.4 Rozkład klastrowy"
   ]
  },
  {
   "cell_type": "code",
   "execution_count": null,
   "metadata": {},
   "outputs": [],
   "source": []
  },
  {
   "cell_type": "markdown",
   "metadata": {},
   "source": [
    "2.5 Rozkład krzyżowy"
   ]
  },
  {
   "cell_type": "code",
   "execution_count": null,
   "metadata": {},
   "outputs": [],
   "source": []
  },
  {
   "cell_type": "markdown",
   "metadata": {},
   "source": [
    "2.6 Rozkład prostokątny"
   ]
  },
  {
   "cell_type": "code",
   "execution_count": null,
   "metadata": {},
   "outputs": [],
   "source": []
  },
  {
   "cell_type": "markdown",
   "metadata": {},
   "source": [
    "## 3. Generowanie wykresów"
   ]
  }
 ],
 "metadata": {
  "kernelspec": {
   "display_name": "Python 3 (ipykernel)",
   "language": "python",
   "name": "python3"
  },
  "language_info": {
   "codemirror_mode": {
    "name": "ipython",
    "version": 3
   },
   "file_extension": ".py",
   "mimetype": "text/x-python",
   "name": "python",
   "nbconvert_exporter": "python",
   "pygments_lexer": "ipython3",
   "version": "3.9.18"
  }
 },
 "nbformat": 4,
 "nbformat_minor": 4
}
